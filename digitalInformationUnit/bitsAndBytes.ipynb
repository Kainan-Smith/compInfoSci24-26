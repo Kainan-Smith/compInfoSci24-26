{
 "cells": [
  {
   "cell_type": "markdown",
   "metadata": {},
   "source": [
    "# Bits and Bytes"
   ]
  },
  {
   "cell_type": "markdown",
   "metadata": {},
   "source": [
    "<b>Bit</b> - the smallest unit of data.  A bit is represented by either a 1 or a 0.\n",
    "\n",
    "* Differentiate between 10,000 \"Mega bits\" or \"Mega Bytes\"\n",
    "<pre>\n",
    "Byte - a string of 8 1's or 0's - 8 bits.\n",
    "\n",
    "\n",
    "A --> 01000001\n",
    "Kainan --> 01001011 01100001 01101001 01101110 01100001 01101110 00001010\n",
    "Computer Science --> 01000011 01101111 01101101 01110000 01110101 01110100 01100101 01110010 00100000 01010011 01100011 01101001 01100101 01101110 01100011 01100101\n",
    "\n",
    "255 --> 00110010 00110101 00110101\n",
    "\n",
    "### Representing Color\n",
    "\n",
    "- Hexidecimal --> #9d ff aa\n",
    "- RGB --> (157, 255, 170) --> 00110001 00110101 00110111, 00110010 00110101 00110101, 00110001 00110111 00110000\n",
    "</pre>"
   ]
  },
  {
   "cell_type": "markdown",
   "metadata": {},
   "source": [
    "### Series of bits\n",
    "\n",
    "2 bits --> 4 different combinations: 00, 10, 01, 11\n",
    "\n",
    "3 bits --> 8 different combinations: 000, 001, 010, 100, 011, 110, 101, 111\n",
    "\n",
    "4 bits --> 16 different\n",
    "\n",
    "5 bits --> 32 different\n",
    "\n",
    "6 bits --> 64 different\n",
    "\n",
    "7 bits --> 128 different\n",
    "\n",
    "8 bits --> 256 different\n",
    "\n",
    "9 bits --> 512 different\n",
    "\n",
    "10 bits --> 1024 different"
   ]
  },
  {
   "cell_type": "markdown",
   "metadata": {},
   "source": [
    "### Bytes - a combination of 8 bits"
   ]
  },
  {
   "cell_type": "markdown",
   "metadata": {},
   "source": [
    "0000 0101"
   ]
  },
  {
   "cell_type": "markdown",
   "metadata": {},
   "source": [
    "## Visualize Numbers in Decimal"
   ]
  },
  {
   "cell_type": "markdown",
   "metadata": {},
   "source": [
    "234\n",
    "\n",
    "(2 x 100) + (3 x 10) + (4 x 1) = 234"
   ]
  },
  {
   "cell_type": "markdown",
   "metadata": {},
   "source": [
    "## Binary Numbers"
   ]
  },
  {
   "cell_type": "markdown",
   "metadata": {},
   "source": [
    "<pre>\n",
    "            0   0   0   1\n",
    "\n",
    "64  32  16  8   4   2   1 --> Binary Places\n",
    "\n",
    "            (8x0) + (4x0) + (2x0) + (1x1) = 1\n",
    "\n",
    "0   0   1   1   0   1   0\n",
    "\n",
    "(64x0)+(32x0)+(16x1)+(8x1)+(4x0)+(2x1)+(1x0)\n",
    "0 + 0 + 16 + 8 + 0 + 2 + 0\n",
    "</pre>"
   ]
  },
  {
   "cell_type": "markdown",
   "metadata": {},
   "source": [
    "<pre>\n",
    "                                         1       0       0       1        1       1\n",
    "____  - ____  - ____  - ____  - ____ -  ____ -  ____  - ____ -  ____ -  ____  - ____\n",
    "\n",
    "1024s   512s    256s    128s     64s     32s     16s     8s      4s      2s      1s\n",
    "\n",
    "100111 = 39\n",
    "\n",
    "101011 = 43\n",
    "\n",
    "100000 = 32\n",
    "1000000 = 64\n",
    "10000 = 16\n",
    "\n",
    "0111 = 7\n",
    "011111 = 31\n",
    "</pre>"
   ]
  },
  {
   "cell_type": "markdown",
   "metadata": {},
   "source": [
    "## Limitation of storing numbers"
   ]
  },
  {
   "cell_type": "markdown",
   "metadata": {},
   "source": [
    "<b>Integer</b> - Any number without a decimal.\n",
    "\n",
    "Integers can be positive or negative:\n",
    "120, 10, 0, -20, 42\n",
    "\n",
    "#### Example of a computer using 4 bits to represent an integer\n",
    "\n",
    "0001\n",
    "<pre>\n",
    "+/-     4     2     1\n",
    "sign   2^2   2^1   2^0\n",
    "</pre>"
   ]
  },
  {
   "cell_type": "markdown",
   "metadata": {},
   "source": [
    "What would happen if ran a program like this on the 4-bit computer, where the largest positive integer is 7?\n",
    "\n",
    "<b>Overflow</b> - when a computer reaches its storage limit capabilities, so processing numbers any further will create an overflow error"
   ]
  },
  {
   "cell_type": "code",
   "execution_count": 3,
   "metadata": {},
   "outputs": [
    {
     "name": "stdout",
     "output_type": "stream",
     "text": [
      "8\n"
     ]
    }
   ],
   "source": [
    "x = 7\n",
    "y = x + 1  # 8\n",
    "# On a 4 bit machine, you would get an error:\n",
    "# Overflow error or Number is too large\n",
    "\n",
    "# Could truncate (change 8 to 7)\n",
    "#   or  wrap the number around, (instead of 8 it would get stored as 1)\n",
    "print(y)"
   ]
  },
  {
   "cell_type": "markdown",
   "metadata": {},
   "source": [
    "#### Modern computer systems use 64bit architectures.\n",
    "\n",
    "This means that modern computers can store numbers safely up to:\n",
    "\n",
    "## 9,007,199,254,740,991 or 2^53-1"
   ]
  },
  {
   "cell_type": "markdown",
   "metadata": {},
   "source": [
    "### Floating-point representation"
   ]
  },
  {
   "cell_type": "markdown",
   "metadata": {},
   "source": [
    "Floating-point or Decimal numbers are trickier to represent in computer memory.\n",
    "\n",
    "Numbers like:\n",
    "<pre>2/5     1.234      9.9999999999     3.1415.......</pre>"
   ]
  },
  {
   "cell_type": "markdown",
   "metadata": {},
   "source": [
    "Computers use <b>floating-point representation</b>:\n",
    "\n",
    "<pre>A number is multiplied by a base that's raised to an exponent:\n",
    "300 = 3 x 10^2\n",
    "\n",
    "Since we use BINARY:\n",
    "128 = 1 x 2^7\n",
    "256 = 1 x 2^8\n",
    "</pre>"
   ]
  },
  {
   "cell_type": "markdown",
   "metadata": {},
   "source": [
    "<pre>Numbers between powers of 2\n",
    "\n",
    "160 = 1.25 x 2^7\n",
    "192 = 1.50 x 2^7\n",
    "224 = 1.75 x 2^7\n",
    "</pre>"
   ]
  },
  {
   "cell_type": "markdown",
   "metadata": {},
   "source": [
    "### What about non-Integers\n",
    "\n",
    "<pre>\n",
    "0.50 = 1 x 2^-1\n",
    "0.25 = 1 x 2^-2\n",
    "</pre>\n",
    "\n",
    "### What about floating-points\n",
    "\n",
    "<pre>\n",
    "0.750 x 1.5 x 2^-1\n",
    "0.375 = 1.5 x 2^-2\n",
    "</pre>\n",
    "\n",
    "<pre>\n",
    ".0.375 = 00111111 11011000 00000000 00000000 00000000 00000000 00000000 00000000\n",
    "1 bit --> the sign\n",
    "11 bits --> exponent\n",
    "52 bits --> number in front of the decimal\n",
    "</pre>"
   ]
  },
  {
   "cell_type": "markdown",
   "metadata": {},
   "source": [
    "### Roundoff errors"
   ]
  },
  {
   "cell_type": "markdown",
   "metadata": {},
   "source": [
    "All floating-point number cannot be fully represented using binary\n",
    "\n",
    "1/3 = 0.3333333333...\n",
    "\n",
    "1/3 = 1.`3 x 2^-2 --> .010101010101..."
   ]
  },
  {
   "cell_type": "code",
   "execution_count": 2,
   "metadata": {},
   "outputs": [
    {
     "name": "stdout",
     "output_type": "stream",
     "text": [
      "0.30000000000000004\n"
     ]
    }
   ],
   "source": [
    "result = 0.1 + 0.1 + 0.1\n",
    "print(result)"
   ]
  },
  {
   "cell_type": "markdown",
   "metadata": {},
   "source": [
    "The more bits we can use, the more precise our numbers and calculations will be. Modern 64 bit systems offer a high enough precision for low-stakes calculations."
   ]
  },
  {
   "cell_type": "markdown",
   "metadata": {},
   "source": []
  }
 ],
 "metadata": {
  "kernelspec": {
   "display_name": "Python 3",
   "language": "python",
   "name": "python3"
  },
  "language_info": {
   "codemirror_mode": {
    "name": "ipython",
    "version": 3
   },
   "file_extension": ".py",
   "mimetype": "text/x-python",
   "name": "python",
   "nbconvert_exporter": "python",
   "pygments_lexer": "ipython3",
   "version": "3.12.1"
  }
 },
 "nbformat": 4,
 "nbformat_minor": 2
}
